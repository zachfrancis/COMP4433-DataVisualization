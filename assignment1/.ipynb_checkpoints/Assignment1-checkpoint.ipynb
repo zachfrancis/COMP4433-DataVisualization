{
 "cells": [
  {
   "cell_type": "code",
   "execution_count": 1,
   "id": "0e7c4ada-2268-4bbf-a87c-e5ab0fce65a3",
   "metadata": {},
   "outputs": [
    {
     "name": "stdout",
     "output_type": "stream",
     "text": [
      "Untitled.ipynb                  us_census_regions_divisions.csv\n",
      "carnegie2021.csv                week1_ex.py\n",
      "elements.csv                    week1_review.ipynb\n"
     ]
    }
   ],
   "source": [
    "!ls"
   ]
  },
  {
   "cell_type": "code",
   "execution_count": null,
   "id": "9263cfe6-5910-4a88-b364-55ad9c9ab90b",
   "metadata": {},
   "outputs": [],
   "source": [
    "import pandas as pd\n",
    "\n",
    "elems = pd.read_csv('elements.csv')\n",
    "new_rows = pd.DataFrame.from_dict({'name': ['Flourine', 'Neon'], \n",
    "                                   'symbol': ['F', 'Ne'],\n",
    "                                   'atomic number': [9, 10]})\n",
    "elems = pd.concat([elems, new_rows], ignore_index=True)\n",
    "atomic_weights = [1, 4, 7, 9, 11, 12, 14, 16, 19, 20]\n",
    "elems['atomic weights'] = atomic_weights\n",
    "\n",
    "print(elems)"
   ]
  },
  {
   "cell_type": "code",
   "execution_count": null,
   "id": "79917a4b-7f6f-4594-a1ac-099613461288",
   "metadata": {},
   "outputs": [],
   "source": [
    "import numpy as np\n",
    "\n",
    "greek_letters = ['gamma', 'pi', 'beta', 'omega', 'kappa', 'theta', 'chi', 'delta', 'sigma']\n",
    "\n",
    "arr1 = np.random.normal(10, 1.5, 9)\n",
    "arr2 = np.random.normal(10, 1.5, 9)\n",
    "\n",
    "angle = np.linspace(0, 2 * np.pi, 9)\n",
    "\n",
    "cos_angle = np.cos(angle)\n",
    "\n",
    "d = {'Letters': greek_letters,\n",
    "     'Array-1': arr1,\n",
    "     'Array-2': arr2,\n",
    "     'Angle': angle,\n",
    "     'Cosine': cos_angle\n",
    "    }\n",
    "\n",
    "df = pd.DataFrame.from_dict(d)\n",
    "\n",
    "print(df)"
   ]
  },
  {
   "cell_type": "code",
   "execution_count": null,
   "id": "e1667be6-f6e7-4a17-b2be-d9f85d49ef7b",
   "metadata": {},
   "outputs": [],
   "source": [
    "df.sort_values(by='Letters', inplace=True)\n",
    "df.drop(columns=['Array-2','Cosine'], inplace=True)\n",
    "\n",
    "df.drop(index=4, inplace=True)\n",
    "\n",
    "print(df)"
   ]
  },
  {
   "cell_type": "code",
   "execution_count": 62,
   "id": "3fadaa1d-a4fb-4a72-bcfc-a396e32306d2",
   "metadata": {},
   "outputs": [],
   "source": [
    "def fibonacci(n):\n",
    "    if n < 1:\n",
    "        return []\n",
    "    if n == 1:\n",
    "        return [1]\n",
    "    if n == 2:\n",
    "        return [1, 1]\n",
    "    nums = [1, 1]\n",
    "    for _ in range(2, n):\n",
    "        nums.append(nums[-1] + nums[-2])\n",
    "    return nums"
   ]
  },
  {
   "cell_type": "code",
   "execution_count": 70,
   "id": "aab731d2-e83a-476e-86ac-c6097291e059",
   "metadata": {},
   "outputs": [
    {
     "name": "stdout",
     "output_type": "stream",
     "text": [
      "1 1 2 3 5 8 13 21 34 55 89 144 "
     ]
    }
   ],
   "source": [
    "for x in fibonacci(12):\n",
    "    print(x, end=' ')"
   ]
  },
  {
   "cell_type": "code",
   "execution_count": 74,
   "id": "7b29982b-7366-4f56-98cf-a69a055995bb",
   "metadata": {},
   "outputs": [
    {
     "data": {
      "text/plain": [
       "[1.6153846153846154,\n",
       " 1.619047619047619,\n",
       " 1.6176470588235294,\n",
       " 1.6181818181818182,\n",
       " 1.6179775280898876]"
      ]
     },
     "execution_count": 74,
     "metadata": {},
     "output_type": "execute_result"
    }
   ],
   "source": [
    "fib12 = fibonacci(12)\n",
    "ratios = [x/y for x, y in zip(fib12[-5:], fib12[-6:-1])]\n",
    "ratios"
   ]
  },
  {
   "cell_type": "markdown",
   "id": "406e9a20-95dd-4861-b3be-21d8febc3444",
   "metadata": {},
   "source": [
    "This ratios of each of the elements to its predecessor are nearly identical"
   ]
  },
  {
   "cell_type": "code",
   "execution_count": 80,
   "id": "9472d1b3-8bf4-419c-aed8-90813e908596",
   "metadata": {},
   "outputs": [
    {
     "name": "stdout",
     "output_type": "stream",
     "text": [
      "491.4 671.4 756.0 1620.0 2160.0 "
     ]
    }
   ],
   "source": [
    "def kelvin_to_rankine(temp):\n",
    "    return temp * 9 / 5\n",
    "\n",
    "kelvin_temps = [273, 373, 420, 900, 1200]\n",
    "for temp in kelvin_temps:\n",
    "    print(kelvin_to_rankine(temp), end=' ')"
   ]
  },
  {
   "cell_type": "code",
   "execution_count": 82,
   "id": "9f231873-85a0-4554-b5fe-fe6de5e0701d",
   "metadata": {},
   "outputs": [
    {
     "name": "stdout",
     "output_type": "stream",
     "text": [
      "491.4 671.4 756.0 1620.0 2160.0 "
     ]
    }
   ],
   "source": [
    "for temp in kelvin_temps:\n",
    "    print((lambda x: x * 9 / 5)(temp), end=' ')"
   ]
  }
 ],
 "metadata": {
  "kernelspec": {
   "display_name": "Python 3 (ipykernel)",
   "language": "python",
   "name": "python3"
  },
  "language_info": {
   "codemirror_mode": {
    "name": "ipython",
    "version": 3
   },
   "file_extension": ".py",
   "mimetype": "text/x-python",
   "name": "python",
   "nbconvert_exporter": "python",
   "pygments_lexer": "ipython3",
   "version": "3.11.2"
  }
 },
 "nbformat": 4,
 "nbformat_minor": 5
}
